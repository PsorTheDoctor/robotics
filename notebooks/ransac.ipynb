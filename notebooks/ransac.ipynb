{
  "nbformat": 4,
  "nbformat_minor": 0,
  "metadata": {
    "colab": {
      "name": "ransac.ipynb",
      "provenance": [],
      "authorship_tag": "ABX9TyMkOrzWWIevM4iTUx6uPZWn",
      "include_colab_link": true
    },
    "kernelspec": {
      "name": "python3",
      "display_name": "Python 3"
    },
    "language_info": {
      "name": "python"
    }
  },
  "cells": [
    {
      "cell_type": "markdown",
      "metadata": {
        "id": "view-in-github",
        "colab_type": "text"
      },
      "source": [
        "<a href=\"https://colab.research.google.com/github/PsorTheDoctor/robotics/blob/main/notebooks/ransac.ipynb\" target=\"_parent\"><img src=\"https://colab.research.google.com/assets/colab-badge.svg\" alt=\"Open In Colab\"/></a>"
      ]
    },
    {
      "cell_type": "markdown",
      "source": [
        "#RANSAC (Random Sample Consensus)"
      ],
      "metadata": {
        "id": "Pof5f23jqt_P"
      }
    },
    {
      "cell_type": "code",
      "source": [
        "import numpy as np\n",
        "import matplotlib.pyplot as plt"
      ],
      "metadata": {
        "id": "0bB91_J_5MLy"
      },
      "execution_count": 1,
      "outputs": []
    },
    {
      "cell_type": "code",
      "source": [
        "class LinearLeastSquaresModel:\n",
        "\n",
        "  def __init__(self, input_columns, output_columns):\n",
        "    self.input_columns = input_columns\n",
        "    self.output_columns = output_columns\n",
        "\n",
        "  def fit(self, data):\n",
        "    A = np.vstack([data[:, i] for i in self.input_columns]).T\n",
        "    B = np.vstack([data[:, i] for i in self.output_columns]).T\n",
        "    x, residues, rank, s = np.linalg.lstsq(A, B)\n",
        "    return x\n",
        "\n",
        "  def get_error(self, data, model):\n",
        "    A = np.vstack([data[:, i] for i in self.input_columns]).T\n",
        "    B = np.vstack([data[:, i] for i in self.output_columns]).T\n",
        "    B_fit = np.dot(A, model)\n",
        "    error_per_point = np.sum((B - B_fit) ** 2, axis=1)\n",
        "    return error_per_point"
      ],
      "metadata": {
        "id": "1xstvcyK5dx4"
      },
      "execution_count": 2,
      "outputs": []
    },
    {
      "cell_type": "code",
      "execution_count": 3,
      "metadata": {
        "id": "Rln84ctzqkVa"
      },
      "outputs": [],
      "source": [
        "def ransac(data, model):\n",
        "  n = 50  # Najmniejsza liczba punktów potrzebnych do estymacji parametrów modelu\n",
        "  k = 1000  # Największa liczba możliwych iteracji\n",
        "  t = 7e3  # Wartość progowa określająca dopasowanie chmury punktów do modelu\n",
        "  d = 300  # Liczba przybliżonych wartości potrzebnych do uznania, że model \n",
        "           # pasuje do chmury punktów\n",
        "  i = 0\n",
        "  best_fit = None\n",
        "  best_error = np.inf\n",
        "\n",
        "  while i < k:\n",
        "    possible_indices, test_indices = random_partition(n, data.shape[0])\n",
        "    possible_inliers = data[possible_indices, :]\n",
        "    test_points = data[test_indices]\n",
        "    possible_model = model.fit(possible_inliers)\n",
        "    test_error = model.get_error(test_points, possible_model)\n",
        "    indices = test_indices[test_error < t]\n",
        "    inliers = data[indices, :]\n",
        "\n",
        "    if len(inliers) > d:\n",
        "      better_data = np.concatenate((possible_inliers, inliers))\n",
        "      better_model = model.fit(better_data)\n",
        "      better_errors = model.get_error(better_data, better_model)\n",
        "      error = np.mean(better_errors)\n",
        "      if error < best_error:\n",
        "        best_fit = better_model\n",
        "        best_error = error\n",
        "        best_inlier_indices = np.concatenate((possible_indices, indices))\n",
        "    i += 1\n",
        "\n",
        "  return best_fit\n",
        "\n",
        "def random_partition(n, n_data):\n",
        "  all_indices = np.arange(n_data)\n",
        "  np.random.shuffle(all_indices)\n",
        "  indices1 = all_indices[:n]\n",
        "  indices2 = all_indices[n:]\n",
        "  return indices1, indices2"
      ]
    },
    {
      "cell_type": "code",
      "source": [
        "n_samples = 500\n",
        "A_exact = 20 * np.random.random((n_samples, 1))\n",
        "perfect_fit = 60 * np.random.normal(size=(1, 1))\n",
        "B_exact = np.dot(A_exact, perfect_fit)\n",
        "assert B_exact.shape == (n_samples, 1)\n",
        "\n",
        "# Dodanie małego szumu gaussowskiego\n",
        "A_noisy = A_exact + np.random.normal(size=A_exact.shape)\n",
        "B_noisy = B_exact + np.random.normal(size=B_exact.shape)\n",
        "\n",
        "# Dodanie punktów odstających\n",
        "n_outliers = 100\n",
        "all_indices = np.arange(A_noisy.shape[0])\n",
        "np.random.shuffle(all_indices)\n",
        "outlier_indices = all_indices[:n_outliers]\n",
        "non_outlier_indices = all_indices[n_outliers:]\n",
        "A_noisy[outlier_indices] = 20 * np.random.random((n_outliers, 1))\n",
        "B_noisy[outlier_indices] = 50 * np.random.normal(size=(n_outliers, 1))\n",
        "\n",
        "all_data = np.hstack((A_noisy, B_noisy))\n",
        "input_columns = range(1)\n",
        "output_columns = [1 + i for i in range(1)]  # [1]\n",
        "model = LinearLeastSquaresModel(input_columns, output_columns)\n",
        "\n",
        "linear_fit, residues, rank, s = np.linalg.lstsq(all_data[:, input_columns],\n",
        "                                                all_data[:, output_columns])\n",
        "ransac_fit = ransac(all_data, model)"
      ],
      "metadata": {
        "colab": {
          "base_uri": "https://localhost:8080/"
        },
        "id": "uJ4oxHT56MOU",
        "outputId": "c2130a30-36d0-4af3-a234-454b4b8eb93e"
      },
      "execution_count": 5,
      "outputs": [
        {
          "output_type": "stream",
          "name": "stderr",
          "text": [
            "/usr/local/lib/python3.7/dist-packages/ipykernel_launcher.py:26: FutureWarning: `rcond` parameter will change to the default of machine precision times ``max(M, N)`` where M and N are the input matrix dimensions.\n",
            "To use the future default and silence this warning we advise to pass `rcond=None`, to keep using the old, explicitly pass `rcond=-1`.\n",
            "/usr/local/lib/python3.7/dist-packages/ipykernel_launcher.py:10: FutureWarning: `rcond` parameter will change to the default of machine precision times ``max(M, N)`` where M and N are the input matrix dimensions.\n",
            "To use the future default and silence this warning we advise to pass `rcond=None`, to keep using the old, explicitly pass `rcond=-1`.\n",
            "  # Remove the CWD from sys.path while we load stuff.\n"
          ]
        }
      ]
    },
    {
      "cell_type": "code",
      "source": [
        "sorted_indices = np.argsort(A_exact[:, 0])\n",
        "A_col0_sorted = A_exact[sorted_indices]\n",
        "\n",
        "plt.plot(A_noisy[:, 0], B_noisy[:, 0], 'k.', label='data')\n",
        "\n",
        "plt.plot(A_col0_sorted[:, 0], np.dot(A_col0_sorted, ransac_fit)[:, 0], \n",
        "         label='RANSAC fit')\n",
        "plt.plot(A_col0_sorted[:, 0], np.dot(A_col0_sorted, perfect_fit)[:, 0], \n",
        "         label='Exact system')\n",
        "plt.plot(A_col0_sorted[:, 0], np.dot(A_col0_sorted, linear_fit)[:, 0], \n",
        "         label='Linear fit')\n",
        "plt.legend()\n",
        "plt.show()"
      ],
      "metadata": {
        "colab": {
          "base_uri": "https://localhost:8080/",
          "height": 265
        },
        "id": "zwx06vkVBMQV",
        "outputId": "25dd52df-5d84-41d5-b547-dbe43f8655d5"
      },
      "execution_count": 6,
      "outputs": [
        {
          "output_type": "display_data",
          "data": {
            "image/png": "[encoded data removed]",
            "text/plain": [
              "<Figure size 432x288 with 1 Axes>"
            ]
          },
          "metadata": {
            "needs_background": "light"
          }
        }
      ]
    }
  ]
}