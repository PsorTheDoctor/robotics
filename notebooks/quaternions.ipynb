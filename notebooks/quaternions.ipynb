{
  "nbformat": 4,
  "nbformat_minor": 0,
  "metadata": {
    "colab": {
      "name": "quaternions.ipynb",
      "provenance": [],
      "collapsed_sections": [],
      "authorship_tag": "ABX9TyM+V6/Y1ZeXU9q03dYq9zMy",
      "include_colab_link": true
    },
    "kernelspec": {
      "name": "python3",
      "display_name": "Python 3"
    },
    "language_info": {
      "name": "python"
    }
  },
  "cells": [
    {
      "cell_type": "markdown",
      "metadata": {
        "id": "view-in-github",
        "colab_type": "text"
      },
      "source": [
        "<a href=\"https://colab.research.google.com/github/PsorTheDoctor/robotics/blob/main/notebooks/quaternions.ipynb\" target=\"_parent\"><img src=\"https://colab.research.google.com/assets/colab-badge.svg\" alt=\"Open In Colab\"/></a>"
      ]
    },
    {
      "cell_type": "markdown",
      "metadata": {
        "id": "e4VDxFTGkmMc"
      },
      "source": [
        "#Kwaterniony i rotacje"
      ]
    },
    {
      "cell_type": "code",
      "metadata": {
        "id": "2WM4Y8oGR3fC"
      },
      "source": [
        "!pip install pyquaternion"
      ],
      "execution_count": null,
      "outputs": []
    },
    {
      "cell_type": "code",
      "metadata": {
        "colab": {
          "base_uri": "https://localhost:8080/"
        },
        "id": "mqoeXhfsd4Tp",
        "outputId": "dc29727f-7e8d-4d70-e419-4e1902ca87c7"
      },
      "source": [
        "from pyquaternion import Quaternion\n",
        "import numpy as np\n",
        "from math import *\n",
        "\n",
        "angle = radians(30)\n",
        "\n",
        "quaternion = Quaternion(axis=[1, 0, 0], angle=angle)\n",
        "quaternion"
      ],
      "execution_count": 6,
      "outputs": [
        {
          "output_type": "execute_result",
          "data": {
            "text/plain": [
              "Quaternion(0.9659258262890683, 0.25881904510252074, 0.0, 0.0)"
            ]
          },
          "metadata": {
            "tags": []
          },
          "execution_count": 6
        }
      ]
    },
    {
      "cell_type": "code",
      "metadata": {
        "colab": {
          "base_uri": "https://localhost:8080/"
        },
        "id": "TtvaLagWgc3X",
        "outputId": "e0387587-dd99-45e7-c708-5dc60907bf26"
      },
      "source": [
        "array = np.array([1, 2, 3])\n",
        "\n",
        "rotated = quaternion.rotate(array)\n",
        "rotated"
      ],
      "execution_count": 7,
      "outputs": [
        {
          "output_type": "execute_result",
          "data": {
            "text/plain": [
              "array([1.        , 0.23205081, 3.59807621])"
            ]
          },
          "metadata": {
            "tags": []
          },
          "execution_count": 7
        }
      ]
    },
    {
      "cell_type": "code",
      "metadata": {
        "id": "TPomHlDah4Bn"
      },
      "source": [
        "def rotate_by_euler_angles(a, b, g):\n",
        "\n",
        "  R = np.array([[cos(a) * cos(b), \n",
        "                 cos(a) * sin(b) * sin(g) - sin(a) * cos(g),\n",
        "                 cos(a) * sin(b) * cos(g) + sin(a) * sin(g)],\n",
        "                [sin(a) * cos(b),\n",
        "                 sin(a) * sin(b) * sin(g) + cos(a) * cos(g),\n",
        "                 sin(a) * sin(b) * cos(g) - cos(a) * sin(g)],\n",
        "                [-sin(b),\n",
        "                 cos(b) * sin(g),\n",
        "                 cos(b) * cos(g)]])\n",
        "  return R\n",
        "\n",
        "def rotate_by_axis_and_angle(axis, theta):\n",
        "\n",
        "  [ux, uy, uz] = axis\n",
        "  c = cos(theta)\n",
        "  s = sin(theta)\n",
        "\n",
        "  R = np.array([[c + ux*ux*(1-c), ux*uy*(1-c) - uz*s, ux*uz*(1-c) + uy*s],\n",
        "                [uy*ux*(1-c) + uz*s, c + uy*uy*(1-c), uy*uz*(1-c) - ux*s],\n",
        "                [uz*ux*(1-c) - uy*s, uz*uy*(1-c) + ux*s, c + uz*uz*(1-c)]])\n",
        "  return R\n",
        "\n",
        "def rotate_by_quaternion(axis, theta):\n",
        "\n",
        "  [a, b, c, d] = Quaternion(axis=axis, angle=theta)\n",
        "  # axis = axis / np.sqrt(np.dot(axis, axis))\n",
        "  # a = cos(theta / 2.)\n",
        "  # [b, c, d] = -axis * sin(theta / 2.)\n",
        "\n",
        "  R = np.array([[a*a+b*b-c*c-d*d, 2 * (b*c-a*d), 2 * (b*d+a*c)],\n",
        "                [2 * (b*c+a*d), a*a+c*c-b*b-d*d, 2 * (c*d-a*b)],\n",
        "                [2 * (b*d-a*c), 2 * (c*d+a*b), a*a+d*d-b*b-c*c]])\n",
        "  return R"
      ],
      "execution_count": 27,
      "outputs": []
    },
    {
      "cell_type": "code",
      "metadata": {
        "colab": {
          "base_uri": "https://localhost:8080/"
        },
        "id": "2yuW2irhjo9P",
        "outputId": "38f57e45-1d1d-44f9-8e43-6de33ca96276"
      },
      "source": [
        "rotate_by_euler_angles(angle, 0, 0)"
      ],
      "execution_count": 77,
      "outputs": [
        {
          "output_type": "execute_result",
          "data": {
            "text/plain": [
              "array([[ 0.8660254, -0.5      ,  0.       ],\n",
              "       [ 0.5      ,  0.8660254,  0.       ],\n",
              "       [-0.       ,  0.       ,  1.       ]])"
            ]
          },
          "metadata": {
            "tags": []
          },
          "execution_count": 77
        }
      ]
    },
    {
      "cell_type": "code",
      "metadata": {
        "colab": {
          "base_uri": "https://localhost:8080/"
        },
        "id": "DOOzkmSZXLoM",
        "outputId": "739bf82a-16b4-49af-f17e-6ef54aaf0948"
      },
      "source": [
        "rotate_by_axis_and_angle([1, 0, 0], angle)"
      ],
      "execution_count": 75,
      "outputs": [
        {
          "output_type": "execute_result",
          "data": {
            "text/plain": [
              "array([[ 1.       ,  0.       ,  0.       ],\n",
              "       [ 0.       ,  0.8660254, -0.5      ],\n",
              "       [ 0.       ,  0.5      ,  0.8660254]])"
            ]
          },
          "metadata": {
            "tags": []
          },
          "execution_count": 75
        }
      ]
    },
    {
      "cell_type": "code",
      "metadata": {
        "colab": {
          "base_uri": "https://localhost:8080/"
        },
        "id": "uh6Iu5j-iotV",
        "outputId": "a21f3aaa-cb0c-4a58-e365-2352afaa6036"
      },
      "source": [
        "rotate_by_quaternion([1, 0, 0], angle)"
      ],
      "execution_count": 74,
      "outputs": [
        {
          "output_type": "execute_result",
          "data": {
            "text/plain": [
              "array([[ 1.       ,  0.       ,  0.       ],\n",
              "       [ 0.       ,  0.8660254,  0.5      ],\n",
              "       [ 0.       , -0.5      ,  0.8660254]])"
            ]
          },
          "metadata": {
            "tags": []
          },
          "execution_count": 74
        }
      ]
    },
    {
      "cell_type": "code",
      "metadata": {
        "id": "Qbl7d_GJlwFN",
        "colab": {
          "base_uri": "https://localhost:8080/"
        },
        "outputId": "eb1c5717-552c-4784-ad76-56a99142c297"
      },
      "source": [
        "A = np.array([[1, 2, 3], [4, 5, 6]])\n",
        "R = rotate_by_quaternion([1, 0, 0], angle)\n",
        "B = np.dot(A, R)\n",
        "\n",
        "A_norm = A - np.mean(A, axis=0)\n",
        "B_norm = B - np.mean(B, axis=0)\n",
        "\n",
        "U, D, V = np.linalg.svd(np.dot(A_norm.T, B_norm))\n",
        "R"
      ],
      "execution_count": 82,
      "outputs": [
        {
          "output_type": "execute_result",
          "data": {
            "text/plain": [
              "array([[ 1.       ,  0.       ,  0.       ],\n",
              "       [ 0.       ,  0.8660254,  0.5      ],\n",
              "       [ 0.       , -0.5      ,  0.8660254]])"
            ]
          },
          "metadata": {
            "tags": []
          },
          "execution_count": 82
        }
      ]
    },
    {
      "cell_type": "code",
      "metadata": {
        "colab": {
          "base_uri": "https://localhost:8080/"
        },
        "id": "idcLITw_ngBb",
        "outputId": "6a71d45a-7916-460f-a05d-6171f4e8a139"
      },
      "source": [
        "S = np.identity(3)\n",
        "R = np.dot(np.dot(U, S), V)\n",
        "R"
      ],
      "execution_count": 83,
      "outputs": [
        {
          "output_type": "execute_result",
          "data": {
            "text/plain": [
              "array([[-0.32399474,  0.11076318,  0.93955251],\n",
              "       [ 0.56569999,  0.81869989,  0.0985597 ],\n",
              "       [ 0.75829475, -0.56343767,  0.32791319]])"
            ]
          },
          "metadata": {
            "tags": []
          },
          "execution_count": 83
        }
      ]
    },
    {
      "cell_type": "code",
      "metadata": {
        "colab": {
          "base_uri": "https://localhost:8080/"
        },
        "id": "CER6Z-P8jVUp",
        "outputId": "aa13c4b4-446c-447a-a6c2-0d98ebca4d25"
      },
      "source": [
        "R = np.dot(V.T, U.T)\n",
        "R"
      ],
      "execution_count": 84,
      "outputs": [
        {
          "output_type": "execute_result",
          "data": {
            "text/plain": [
              "array([[-0.32399474,  0.56569999,  0.75829475],\n",
              "       [ 0.11076318,  0.81869989, -0.56343767],\n",
              "       [ 0.93955251,  0.0985597 ,  0.32791319]])"
            ]
          },
          "metadata": {
            "tags": []
          },
          "execution_count": 84
        }
      ]
    }
  ]
}