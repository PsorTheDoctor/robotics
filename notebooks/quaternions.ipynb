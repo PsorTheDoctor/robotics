{
  "nbformat": 4,
  "nbformat_minor": 0,
  "metadata": {
    "colab": {
      "name": "quaternions.ipynb",
      "provenance": [],
      "collapsed_sections": [],
      "authorship_tag": "ABX9TyPsqZk9TCvXECGST4BW/+bk",
      "include_colab_link": true
    },
    "kernelspec": {
      "name": "python3",
      "display_name": "Python 3"
    },
    "language_info": {
      "name": "python"
    }
  },
  "cells": [
    {
      "cell_type": "markdown",
      "metadata": {
        "id": "view-in-github",
        "colab_type": "text"
      },
      "source": [
        "<a href=\"https://colab.research.google.com/github/PsorTheDoctor/robotics/blob/main/notebooks/quaternions.ipynb\" target=\"_parent\"><img src=\"https://colab.research.google.com/assets/colab-badge.svg\" alt=\"Open In Colab\"/></a>"
      ]
    },
    {
      "cell_type": "markdown",
      "metadata": {
        "id": "e4VDxFTGkmMc"
      },
      "source": [
        "#Kwaterniony i rotacje"
      ]
    },
    {
      "cell_type": "code",
      "metadata": {
        "id": "2WM4Y8oGR3fC",
        "colab": {
          "base_uri": "https://localhost:8080/"
        },
        "outputId": "9f34fbf5-cf1c-474e-d2d0-b6b543db415d"
      },
      "source": [
        "!pip install pyquaternion"
      ],
      "execution_count": 1,
      "outputs": [
        {
          "output_type": "stream",
          "name": "stdout",
          "text": [
            "Collecting pyquaternion\n",
            "  Downloading pyquaternion-0.9.9-py3-none-any.whl (14 kB)\n",
            "Requirement already satisfied: numpy in /usr/local/lib/python3.7/dist-packages (from pyquaternion) (1.19.5)\n",
            "Installing collected packages: pyquaternion\n",
            "Successfully installed pyquaternion-0.9.9\n"
          ]
        }
      ]
    },
    {
      "cell_type": "code",
      "metadata": {
        "colab": {
          "base_uri": "https://localhost:8080/"
        },
        "id": "mqoeXhfsd4Tp",
        "outputId": "f126b434-78ea-4fac-a0bd-27f3bab64e4a"
      },
      "source": [
        "from pyquaternion import Quaternion\n",
        "import numpy as np\n",
        "from math import *\n",
        "\n",
        "angle = radians(30)\n",
        "\n",
        "quaternion = Quaternion(axis=[1, 0, 0], angle=angle)\n",
        "quaternion"
      ],
      "execution_count": 2,
      "outputs": [
        {
          "output_type": "execute_result",
          "data": {
            "text/plain": [
              "Quaternion(0.9659258262890683, 0.25881904510252074, 0.0, 0.0)"
            ]
          },
          "metadata": {},
          "execution_count": 2
        }
      ]
    },
    {
      "cell_type": "code",
      "metadata": {
        "colab": {
          "base_uri": "https://localhost:8080/"
        },
        "id": "TtvaLagWgc3X",
        "outputId": "0eb0f18a-cdf4-44df-9aef-ab62c249078b"
      },
      "source": [
        "array = np.array([1, 2, 3])\n",
        "\n",
        "rotated = quaternion.rotate(array)\n",
        "rotated"
      ],
      "execution_count": 3,
      "outputs": [
        {
          "output_type": "execute_result",
          "data": {
            "text/plain": [
              "array([1.        , 0.23205081, 3.59807621])"
            ]
          },
          "metadata": {},
          "execution_count": 3
        }
      ]
    },
    {
      "cell_type": "code",
      "metadata": {
        "id": "TPomHlDah4Bn"
      },
      "source": [
        "def rotate_by_euler_angles(a, b, g):\n",
        "  # R = np.array([[cos(a)*cos(b) - sin(a)*sin(b)*cos(g),\n",
        "  #                sin(a)*cos(b) + cos(a)*sin(b)*cos(g),\n",
        "  #                sin(b)*sin(g)],\n",
        "  #               [-cos(a)*sin(b) - sin(a)*sin(b)*cos(g),\n",
        "  #                -sin(a)*sin(b) + cos(a)*cos(b)*cos(g),\n",
        "  #                cos(b)*sin(g)],\n",
        "  #               [sin(a)*sin(g),\n",
        "  #                -cos(a)*sin(g),\n",
        "  #                cos(g)]])\n",
        "  R = np.array([[cos(g) * cos(b), \n",
        "                 cos(g) * sin(b) * sin(a) - sin(g) * cos(a),\n",
        "                 cos(g) * sin(b) * cos(a) + sin(g) * sin(a)],\n",
        "                [sin(g) * cos(b),\n",
        "                 sin(g) * sin(b) * sin(a) + cos(g) * cos(a),\n",
        "                 sin(g) * sin(b) * cos(a) - cos(g) * sin(a)],\n",
        "                [-sin(b),\n",
        "                 cos(b) * sin(a),\n",
        "                 cos(b) * cos(a)]])\n",
        "  return R\n",
        "\n",
        "def rotate_by_axis_and_angle(axis, theta):\n",
        "\n",
        "  [ux, uy, uz] = axis\n",
        "  c = cos(theta)\n",
        "  s = sin(theta)\n",
        "\n",
        "  R = np.array([[c + ux*ux*(1-c), ux*uy*(1-c) - uz*s, ux*uz*(1-c) + uy*s],\n",
        "                [uy*ux*(1-c) + uz*s, c + uy*uy*(1-c), uy*uz*(1-c) - ux*s],\n",
        "                [uz*ux*(1-c) - uy*s, uz*uy*(1-c) + ux*s, c + uz*uz*(1-c)]])\n",
        "  return R\n",
        "\n",
        "def rotate_by_quaternion(axis, theta):\n",
        "\n",
        "  [a, b, c, d] = Quaternion(axis=axis, angle=theta)\n",
        "  # axis = axis / np.sqrt(np.dot(axis, axis))\n",
        "  # a = cos(theta / 2.)\n",
        "  # [b, c, d] = -axis * sin(theta / 2.)\n",
        "\n",
        "  R = np.array([[a*a+b*b-c*c-d*d, 2 * (b*c-a*d), 2 * (b*d+a*c)],\n",
        "                [2 * (b*c+a*d), a*a+c*c-b*b-d*d, 2 * (c*d-a*b)],\n",
        "                [2 * (b*d-a*c), 2 * (c*d+a*b), a*a+d*d-b*b-c*c]])\n",
        "  return R"
      ],
      "execution_count": 17,
      "outputs": []
    },
    {
      "cell_type": "code",
      "metadata": {
        "colab": {
          "base_uri": "https://localhost:8080/"
        },
        "id": "2yuW2irhjo9P",
        "outputId": "0698ed0c-7700-4076-bc2d-29ce8c9b527e"
      },
      "source": [
        "rotate_by_euler_angles(angle, 0, 0)"
      ],
      "execution_count": 18,
      "outputs": [
        {
          "output_type": "execute_result",
          "data": {
            "text/plain": [
              "array([[ 1.       ,  0.       ,  0.       ],\n",
              "       [ 0.       ,  0.8660254, -0.5      ],\n",
              "       [-0.       ,  0.5      ,  0.8660254]])"
            ]
          },
          "metadata": {},
          "execution_count": 18
        }
      ]
    },
    {
      "cell_type": "code",
      "metadata": {
        "colab": {
          "base_uri": "https://localhost:8080/"
        },
        "id": "DOOzkmSZXLoM",
        "outputId": "739bf82a-16b4-49af-f17e-6ef54aaf0948"
      },
      "source": [
        "rotate_by_axis_and_angle([1, 0, 0], angle)"
      ],
      "execution_count": null,
      "outputs": [
        {
          "output_type": "execute_result",
          "data": {
            "text/plain": [
              "array([[ 1.       ,  0.       ,  0.       ],\n",
              "       [ 0.       ,  0.8660254, -0.5      ],\n",
              "       [ 0.       ,  0.5      ,  0.8660254]])"
            ]
          },
          "metadata": {
            "tags": []
          },
          "execution_count": 75
        }
      ]
    },
    {
      "cell_type": "code",
      "metadata": {
        "colab": {
          "base_uri": "https://localhost:8080/"
        },
        "id": "uh6Iu5j-iotV",
        "outputId": "a21f3aaa-cb0c-4a58-e365-2352afaa6036"
      },
      "source": [
        "rotate_by_quaternion([1, 0, 0], angle)"
      ],
      "execution_count": null,
      "outputs": [
        {
          "output_type": "execute_result",
          "data": {
            "text/plain": [
              "array([[ 1.       ,  0.       ,  0.       ],\n",
              "       [ 0.       ,  0.8660254,  0.5      ],\n",
              "       [ 0.       , -0.5      ,  0.8660254]])"
            ]
          },
          "metadata": {
            "tags": []
          },
          "execution_count": 74
        }
      ]
    },
    {
      "cell_type": "code",
      "metadata": {
        "id": "Qbl7d_GJlwFN",
        "colab": {
          "base_uri": "https://localhost:8080/"
        },
        "outputId": "eb1c5717-552c-4784-ad76-56a99142c297"
      },
      "source": [
        "A = np.array([[1, 2, 3], [4, 5, 6]])\n",
        "R = rotate_by_quaternion([1, 0, 0], angle)\n",
        "B = np.dot(A, R)\n",
        "\n",
        "A_norm = A - np.mean(A, axis=0)\n",
        "B_norm = B - np.mean(B, axis=0)\n",
        "\n",
        "U, D, V = np.linalg.svd(np.dot(A_norm.T, B_norm))\n",
        "R"
      ],
      "execution_count": null,
      "outputs": [
        {
          "output_type": "execute_result",
          "data": {
            "text/plain": [
              "array([[ 1.       ,  0.       ,  0.       ],\n",
              "       [ 0.       ,  0.8660254,  0.5      ],\n",
              "       [ 0.       , -0.5      ,  0.8660254]])"
            ]
          },
          "metadata": {
            "tags": []
          },
          "execution_count": 82
        }
      ]
    },
    {
      "cell_type": "code",
      "metadata": {
        "colab": {
          "base_uri": "https://localhost:8080/"
        },
        "id": "idcLITw_ngBb",
        "outputId": "6a71d45a-7916-460f-a05d-6171f4e8a139"
      },
      "source": [
        "S = np.identity(3)\n",
        "R = np.dot(np.dot(U, S), V)\n",
        "R"
      ],
      "execution_count": null,
      "outputs": [
        {
          "output_type": "execute_result",
          "data": {
            "text/plain": [
              "array([[-0.32399474,  0.11076318,  0.93955251],\n",
              "       [ 0.56569999,  0.81869989,  0.0985597 ],\n",
              "       [ 0.75829475, -0.56343767,  0.32791319]])"
            ]
          },
          "metadata": {
            "tags": []
          },
          "execution_count": 83
        }
      ]
    },
    {
      "cell_type": "code",
      "metadata": {
        "colab": {
          "base_uri": "https://localhost:8080/"
        },
        "id": "CER6Z-P8jVUp",
        "outputId": "aa13c4b4-446c-447a-a6c2-0d98ebca4d25"
      },
      "source": [
        "R = np.dot(V.T, U.T)\n",
        "R"
      ],
      "execution_count": null,
      "outputs": [
        {
          "output_type": "execute_result",
          "data": {
            "text/plain": [
              "array([[-0.32399474,  0.56569999,  0.75829475],\n",
              "       [ 0.11076318,  0.81869989, -0.56343767],\n",
              "       [ 0.93955251,  0.0985597 ,  0.32791319]])"
            ]
          },
          "metadata": {
            "tags": []
          },
          "execution_count": 84
        }
      ]
    }
  ]
}